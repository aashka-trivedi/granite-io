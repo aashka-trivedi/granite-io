{
 "cells": [
  {
   "cell_type": "code",
   "execution_count": 1,
   "metadata": {},
   "outputs": [],
   "source": [
    "from granite_io.io.pdl_io import MultiShotInputOutputProcessor\n",
    "from granite_io.io.base import ChatCompletionInputs\n",
    "from granite_io.types import ChatCompletionResults"
   ]
  },
  {
   "cell_type": "code",
   "execution_count": 2,
   "metadata": {},
   "outputs": [],
   "source": [
    "import random\n",
    "\n",
    "def validator(results: ChatCompletionResults):\n",
    "    b = random.choice([True, False])\n",
    "    print(f\"======> {b}\")\n",
    "    return b"
   ]
  },
  {
   "cell_type": "code",
   "execution_count": 3,
   "metadata": {},
   "outputs": [
    {
     "data": {
      "text/plain": [
       "ChatCompletionInputs(messages=[UserMessage(content='How to write a Rust program that reverse a list?', role='user')], tools=[])"
      ]
     },
     "execution_count": 3,
     "metadata": {},
     "output_type": "execute_result"
    }
   ],
   "source": [
    "completion_inputs = ChatCompletionInputs(\n",
    "    messages=[\n",
    "        {\n",
    "            \"role\": \"user\",\n",
    "            \"content\": \"How to write a Rust program that reverse a list?\",\n",
    "        }\n",
    "    ],\n",
    ")\n",
    "completion_inputs"
   ]
  },
  {
   "cell_type": "code",
   "execution_count": 4,
   "metadata": {},
   "outputs": [
    {
     "name": "stdout",
     "output_type": "stream",
     "text": [
      "======> False\n",
      "======> True\n",
      "My apologies for misunderstanding your initial question earlier. Here's another variation, focusing on writing the function in a more functional programming style using Rust:\n",
      "\n",
      "\n",
      "```rust\n",
      "fn main() {\n",
      "    let numbers: Vec<i32> = vec![1, 2, 3, 4, 5].iter().collect();\n",
      "\n",
      "    // Reverse the numbers vector using fold and reverse_vector function\n",
      "    let reversed = reverse_vector(numbers);\n",
      "\n",
      "    println!(\"Reversed list: {:?}\", reversed);\n",
      "}\n",
      "\n",
      "\n",
      "// Function to reverse a vector of generic type T in-place using fold.\n",
      "fn reverse_vector<T: Clone>(mut vec: &mut Vec<T>) {\n",
      "    let len = vec.len();\n",
      "\n",
      "    for i in (0..len).rev() {\n",
      "        vec.swap(i, i < len - 1);\n",
      "    }\n",
      "}\n",
      "```\n",
      "\n",
      "\n",
      "This version maintains type safety and adheres to Rust's functional style with the use of iterators and `fold`. The `reverse_vector` function modifies its input vector (a mutable reference) in-place by reversing elements using a loop that starts from the end and moves towards the beginning. This approach demonstrates an alternate way to tackle list reversal while preserving Rust's best practices for functional operations on collections.\n"
     ]
    }
   ],
   "source": [
    "processor = MultiShotInputOutputProcessor(model=\"granite3.2:2b\", backend=\"openai\", validator=validator)\n",
    "results = processor.create_chat_completion(completion_inputs)\n",
    "for r in results.results:\n",
    "    print(r.next_message.content)"
   ]
  },
  {
   "cell_type": "code",
   "execution_count": null,
   "metadata": {},
   "outputs": [],
   "source": []
  }
 ],
 "metadata": {
  "kernelspec": {
   "display_name": "Python 3 (ipykernel)",
   "language": "python",
   "name": "python3"
  },
  "language_info": {
   "codemirror_mode": {
    "name": "ipython",
    "version": 3
   },
   "file_extension": ".py",
   "mimetype": "text/x-python",
   "name": "python",
   "nbconvert_exporter": "python",
   "pygments_lexer": "ipython3",
   "version": "3.13.0"
  }
 },
 "nbformat": 4,
 "nbformat_minor": 4
}
