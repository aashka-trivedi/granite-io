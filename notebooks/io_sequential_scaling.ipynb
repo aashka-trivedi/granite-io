{
 "cells": [
  {
   "cell_type": "code",
   "execution_count": 1,
   "metadata": {},
   "outputs": [],
   "source": [
    "from granite_io.io.pdl_io import SequentialScalingInputOutputProcessor\n",
    "from granite_io.io.base import ChatCompletionInputs\n",
    "from granite_io.types import ChatCompletionResults"
   ]
  },
  {
   "cell_type": "code",
   "execution_count": 2,
   "metadata": {},
   "outputs": [],
   "source": [
    "import random\n",
    "\n",
    "\n",
    "def validator(results: ChatCompletionResults):\n",
    "    b = random.choice([True, False])\n",
    "    print(f\"======> {b}\")\n",
    "    return b"
   ]
  },
  {
   "cell_type": "code",
   "execution_count": 3,
   "metadata": {},
   "outputs": [],
   "source": [
    "processor = SequentialScalingInputOutputProcessor(\n",
    "    model=\"granite3.2:2b\", backend=\"openai\", validator=validator\n",
    ")"
   ]
  },
  {
   "cell_type": "code",
   "execution_count": 4,
   "metadata": {},
   "outputs": [
    {
     "data": {
      "text/plain": [
       "ChatCompletionInputs(messages=[UserMessage(content='How to write a Rust program that reverse a list?', role='user')], tools=[])"
      ]
     },
     "execution_count": 4,
     "metadata": {},
     "output_type": "execute_result"
    }
   ],
   "source": [
    "completion_inputs = ChatCompletionInputs(\n",
    "    messages=[\n",
    "        {\n",
    "            \"role\": \"user\",\n",
    "            \"content\": \"How to write a Rust program that reverse a list?\",\n",
    "        }\n",
    "    ],\n",
    ")\n",
    "completion_inputs"
   ]
  },
  {
   "cell_type": "code",
   "execution_count": 5,
   "metadata": {},
   "outputs": [
    {
     "name": "stdout",
     "output_type": "stream",
     "text": [
      "======> False\n",
      "======> True\n",
      "Apologies for the confusion. Here's an updated version to ensure it aligns with your constraints:\n",
      "\n",
      "To reverse a vector (Vec<T>*) in Rust, leverage its `iter()`, `rev()` method, and then collect back into a new vector using the following function:\n",
      "\n",
      "```rust\n",
      "fn main() {\n",
      "    // Input vector\n",
      "    let numbers = vec![1, 2, 3, 4, 5];\n",
      "    \n",
      "    // Reverse function generic (works with any type)\n",
      "    fn reverse_vec<T: std::iter::Iterator>(input: T) -> Vec<T> {\n",
      "        input.into_iter().collect::<Vec<_>>()\n",
      "    }\n",
      "\n",
      "    let reversed_numbers = reverse_vec(numbers);\n",
      "\n",
      "    println!(\"Original Vector: {:?}\", numbers);\n",
      "    println!(\"Reversed Vector: {:?}\", reversed_numbers);\n",
      "}\n",
      "```\n",
      "\n",
      "In this code:\n",
      "1. I created a generic function `reverse_vec` to allow working with different types, thanks to `std::iter::Iterator`.\n",
      "2. This function converts the input into an iterator using `into_iter()`, reverses it via `rev()`, and finally collects back into a new vector.\n",
      "\n",
      "After saving this code in a `.rs` file (e.g., let's call it `reverse_vector.rs`):\n",
      "- Compile via Rust compiler:\n",
      "  ```sh\n",
      "  rustc reverse_vector.rs && ./reverse_vector  # Use the compiled binary to test\n",
      "  ```\n",
      "  \n",
      "Or use an online Rust environment like Rustplay or repl.it for run-and-debug interactivity without local compilation. The expected output for `println!` statements would be similar to:\n",
      "```\n",
      "Original Vector: [1, 2, 3, 4, 5]\n",
      "Reversed Vector: [5, 4, 3, 2, 1]\n",
      "```\n"
     ]
    }
   ],
   "source": [
    "results = processor.create_chat_completion(completion_inputs)\n",
    "for r in results.results:\n",
    "    print(r.next_message.content)"
   ]
  }
 ],
 "metadata": {
  "kernelspec": {
   "display_name": "Python 3 (ipykernel)",
   "language": "python",
   "name": "python3"
  },
  "language_info": {
   "codemirror_mode": {
    "name": "ipython",
    "version": 3
   },
   "file_extension": ".py",
   "mimetype": "text/x-python",
   "name": "python",
   "nbconvert_exporter": "python",
   "pygments_lexer": "ipython3",
   "version": "3.13.0"
  }
 },
 "nbformat": 4,
 "nbformat_minor": 4
}
