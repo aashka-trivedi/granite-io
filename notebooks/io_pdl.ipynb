{
 "cells": [
  {
   "cell_type": "code",
   "execution_count": 1,
   "metadata": {},
   "outputs": [],
   "source": [
    "from granite_io.io.pdl_io import PdlInputOutputProcessor\n",
    "from granite_io.io.base import ChatCompletionInputs"
   ]
  },
  {
   "cell_type": "code",
   "execution_count": 2,
   "metadata": {},
   "outputs": [],
   "source": [
    "pdl_processor = \"\"\"\n",
    "function:\n",
    "  inputs: obj\n",
    "return:\n",
    "  lastOf:\n",
    "  - model: \"granite3.2:2b\"\n",
    "    backend: openai\n",
    "    input: ${ inputs.messages }\n",
    "    modelResponse: results\n",
    "  - ${ results }\n",
    "\"\"\""
   ]
  },
  {
   "cell_type": "code",
   "execution_count": 3,
   "metadata": {},
   "outputs": [
    {
     "data": {
      "text/plain": [
       "ChatCompletionInputs(messages=[UserMessage(content='How to write a Rust program that reverse a list?', role='user')], tools=[])"
      ]
     },
     "execution_count": 3,
     "metadata": {},
     "output_type": "execute_result"
    }
   ],
   "source": [
    "completion_inputs = ChatCompletionInputs(\n",
    "    messages=[\n",
    "        {\n",
    "            \"role\": \"user\",\n",
    "            \"content\": \"How to write a Rust program that reverse a list?\",\n",
    "        }\n",
    "    ],\n",
    ")\n",
    "completion_inputs"
   ]
  },
  {
   "cell_type": "code",
   "execution_count": 4,
   "metadata": {},
   "outputs": [
    {
     "name": "stdout",
     "output_type": "stream",
     "text": [
      "To create a Rust program that reverses a list (vector in Rust), you can use the `reverse_copy()` method or a vector slicing technique. Here's both ways:\n",
      "\n",
      "### Method 1: Using The `reverse_copy()` Method\n",
      "\n",
      "The `reverse_copy()` method clones the input range into an existing output range and reverses it. This won't modify the original list, as it's a copy operation.\n",
      "\n",
      " ```rust\n",
      "use std::vec; // Importing the vector to be used as lists in Rust are of type Vec<T>\n",
      "\n",
      "fn reverse_vector_method(input: Vec<i32>) -> Vec<i32> {\n",
      "    let mut output = input.to_vec(); // Create a new, writable vector for the result\n",
      "\n",
      "    output.reverse_copy(&mut output); // Reverse the elements in place and return the modified output\n",
      "\n",
      "    output\n",
      "}\n",
      "\n",
      "// Test case\n",
      "fn main() {\n",
      "    let original_list = vec![1, 2, 3, 4];\n",
      "    assert_eq!(reverse_vector_method(original_list), vec![4, 3, 2, 1]);\n",
      "}\n",
      "```\n",
      "\n",
      "### Method 2: Vector Slicing\n",
      "\n",
      "This method leverages Rust's feature of array-style literals to reverse a vector more dynamically. It creates a slice from the input vector that starts at the end and moves backwards towards the beginning, thus reversing the order when creating a new vector.\n",
      "\n",
      " ```rust\n",
      "use std::vec; // Importing vectors as per previous examples\n",
      "\n",
      "fn array_like_reverse(input: Vec<i32>) -> Vec<i32> {\n",
      "    input[-1..].collect() // Array-like representation for reversing the slice\n",
      "}\n",
      "\n",
      "// Test case\n",
      "fn main() {\n",
      "    let original_list = vec![1, 2, 3, 4];\n",
      "    assert_eq!(array_like_reverse(original_list), vec![4, 3, 2, 1]);\n",
      "}\n",
      "```\n",
      "\n",
      "Both methods produce the reversed vector. The choice between the methods depends on your specific needs: if you need the input list preserved and untouched, use `reverse_copy()` method. For more dynamic reversing without modifying the original, choose the array-like slicing approach using the second function `array_like_reverse`.\n"
     ]
    }
   ],
   "source": [
    "processor = PdlInputOutputProcessor(pdl=pdl_processor)\n",
    "results = processor.create_chat_completion(completion_inputs)\n",
    "for r in results.results:\n",
    "    print(r.next_message.content)"
   ]
  },
  {
   "cell_type": "code",
   "execution_count": null,
   "metadata": {},
   "outputs": [],
   "source": []
  }
 ],
 "metadata": {
  "kernelspec": {
   "display_name": "Python 3 (ipykernel)",
   "language": "python",
   "name": "python3"
  },
  "language_info": {
   "codemirror_mode": {
    "name": "ipython",
    "version": 3
   },
   "file_extension": ".py",
   "mimetype": "text/x-python",
   "name": "python",
   "nbconvert_exporter": "python",
   "pygments_lexer": "ipython3",
   "version": "3.13.0"
  }
 },
 "nbformat": 4,
 "nbformat_minor": 4
}
