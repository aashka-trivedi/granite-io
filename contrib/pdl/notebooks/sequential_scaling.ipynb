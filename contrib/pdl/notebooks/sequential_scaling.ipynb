{
 "cells": [
  {
   "cell_type": "code",
   "execution_count": 1,
   "metadata": {},
   "outputs": [],
   "source": [
    "from granite_io_pdl.sequential_scaling import SequentialScalingInputOutputProcessor\n",
    "from granite_io.io.base import ChatCompletionInputs\n",
    "from granite_io.types import ChatCompletionResults"
   ]
  },
  {
   "cell_type": "code",
   "execution_count": 2,
   "metadata": {},
   "outputs": [],
   "source": [
    "import random\n",
    "\n",
    "\n",
    "def validator(results: ChatCompletionResults):\n",
    "    b = random.choice([True, False])\n",
    "    print(f\"======> {b}\")\n",
    "    return b"
   ]
  },
  {
   "cell_type": "code",
   "execution_count": 3,
   "metadata": {},
   "outputs": [],
   "source": [
    "processor = SequentialScalingInputOutputProcessor(\n",
    "    model=\"granite3.2:2b\", backend=\"openai\", validator=validator\n",
    ")"
   ]
  },
  {
   "cell_type": "code",
   "execution_count": 4,
   "metadata": {},
   "outputs": [
    {
     "data": {
      "text/plain": [
       "ChatCompletionInputs(messages=[UserMessage(content='How to write a Rust program that reverse a list?', role='user')], tools=[], generate_inputs=None)"
      ]
     },
     "execution_count": 4,
     "metadata": {},
     "output_type": "execute_result"
    }
   ],
   "source": [
    "completion_inputs = ChatCompletionInputs(\n",
    "    messages=[\n",
    "        {\n",
    "            \"role\": \"user\",\n",
    "            \"content\": \"How to write a Rust program that reverse a list?\",\n",
    "        }\n",
    "    ],\n",
    ")\n",
    "completion_inputs"
   ]
  },
  {
   "cell_type": "code",
   "execution_count": 5,
   "metadata": {},
   "outputs": [
    {
     "name": "stdout",
     "output_type": "stream",
     "text": [
      "======> False\n",
      "======> True\n",
      "Apologies for the confusion earlier; here's the corrected Rust program to reverse a list (or vector equivalent in Rust):\n",
      "\n",
      "\n",
      "```rust\n",
      "use std::vec::Vec; // Import the Vec type\n",
      "\n",
      "fn reverse_vector(input: Vec<i32>) -> Vec<i32> {\n",
      "    input.into_iter().collect()\n",
      "}\n",
      "\n",
      "fn main() {\n",
      "    let numbers = vec![1, 2, 3, 4, 5];\n",
      "\n",
      "    // Print the original vector\n",
      "    println!(\n",
      "        \"Original Vector: {:?}\",\n",
      "        numbers\n",
      "    );\n",
      "\n",
      "    // Reverse the vector using a function and collect it back into a new vector\n",
      "    let reversed_numbers = reverse_vector(numbers);\n",
      "\n",
      "    // Print the reversed vector\n",
      "    println!(\n",
      "        \"Reversed Vector: {:?}\",\n",
      "        reversed_numbers\n",
      "    );\n",
      "}\n",
      "```\n",
      "\n",
      "This revised program still accomplishes the same task but with a slightly different syntax for vector conversion inside the function. It imports `Vec` from the standard collection module and converts vectors back to iterators using `into_iter()` before collecting them into a new vector. This approach is valid and correct:\n",
      "\n",
      "\n",
      "1. Include the Rust library needed (i32) at the beginning of your program with `use std::vec::Vec;`.\n",
      "2. Define the function `reverse_vector(input: Vec<i32>) -> Vec<i32>`. In this function, `into_iter()` is called on `input` to convert it into an iterator without collecting it immediately (as `into_iter` doesn't create a vector). Then, call `collect()` to finalize the reversed sequence into a vector.\n",
      "3. In `main()`, create a test list named `numbers`. Print it initially. Call `reverse_vector()` with this list and store the result in `reversed_numbers`. Finally, print these reversed vectors.\n",
      "\n",
      "\n",
      "To run this Rust code:\n",
      "\n",
      "1. Save it as `main.rs`.\n",
      "2. Using your terminal or terminal emulator, navigate to the directory where you saved `main.rs` and execute:\n",
      "   ```sh\n",
      "   rustc main.rs && ./main\n",
      "   ```\n",
      "\n",
      "The output should display:\n",
      "- Original Vector: [1, 2, 3, 4, 5]\n",
      "- Reversed Vector: [5, 4, 3, 2, 1]\n"
     ]
    }
   ],
   "source": [
    "results = processor.create_chat_completion(completion_inputs)\n",
    "for r in results.results:\n",
    "    print(r.next_message.content)"
   ]
  },
  {
   "cell_type": "code",
   "execution_count": null,
   "metadata": {},
   "outputs": [],
   "source": []
  }
 ],
 "metadata": {
  "kernelspec": {
   "display_name": "granite-io-3.11",
   "language": "python",
   "name": "python3"
  },
  "language_info": {
   "codemirror_mode": {
    "name": "ipython",
    "version": 3
   },
   "file_extension": ".py",
   "mimetype": "text/x-python",
   "name": "python",
   "nbconvert_exporter": "python",
   "pygments_lexer": "ipython3",
   "version": "3.11.4"
  }
 },
 "nbformat": 4,
 "nbformat_minor": 4
}
