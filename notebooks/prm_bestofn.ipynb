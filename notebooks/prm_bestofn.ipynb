{
 "cells": [
  {
   "cell_type": "code",
   "execution_count": null,
   "id": "41608866-760c-48d3-931a-3567fa1a11dc",
   "metadata": {},
   "outputs": [],
   "source": [
    "from granite_io.backend.vllm_server import LocalVLLMServer\n",
    "\n",
    "from granite_io.io.granite_3_3.input_processors.granite_3_3_input_processor import (\n",
    "    Granite3Point3InputProcessor,\n",
    "    Granite3Point3Inputs,\n",
    ")\n",
    "\n",
    "from granite_io.io.process_reward_model.best_of_n import ProcessRewardModelIOProcessor, PRMBestOfNCompositeIOProcessor"
   ]
  },
  {
   "cell_type": "code",
   "execution_count": null,
   "id": "f93a4797-a46c-4515-9f6f-3a7b3eedb690",
   "metadata": {},
   "outputs": [],
   "source": [
    "# Spin up VLLM server for PRM\n",
    "\n",
    "base_model_name = \"ibm-granite/granite-3.3-8b-instruct\"\n",
    "lora_model_name = \"/proj/checkpoints/aashka/models/reward_models/granite3.3-lora-gen-prm-v1\"\n",
    "\n",
    "# Start by firing up a local vLLM server and connecting a backend instance to it.\n",
    "server = LocalVLLMServer(\n",
    "    base_model_name, lora_adapters=[(lora_model_name, lora_model_name)]\n",
    ")\n",
    "server.wait_for_startup(200)\n",
    "lora_backend = server.make_lora_backend(lora_model_name)\n",
    "backend = server.make_backend()"
   ]
  },
  {
   "cell_type": "code",
   "execution_count": null,
   "id": "bc9033b3-cd09-4f53-a6a2-74a2154373f2",
   "metadata": {},
   "outputs": [],
   "source": [
    "prm = ProcessRewardModelIOProcessor(backend=lora_backend)"
   ]
  },
  {
   "cell_type": "code",
   "execution_count": null,
   "id": "051bcbbc-a980-4d70-a9e6-f8f97c5d4814",
   "metadata": {},
   "outputs": [],
   "source": [
    "chat_input = Granite3Point3Inputs.model_validate(\n",
    "    {\n",
    "        \"messages\": [\n",
    "            {\"role\": \"user\", \"content\": \"What is the square root of 4x2x8\"},\n",
    "            {\"role\": \"assistant\", \"content\": \"Lets first calculate the value of 4x2x8.\\n\\n 4x2 = 8 and 8x8=64 thus 4x2x8=64. \\n\\n The square root of 64 is 8. \\n\\n The answer is 8\"},\n",
    "        ],\n",
    "    }\n",
    ")"
   ]
  },
  {
   "cell_type": "code",
   "execution_count": null,
   "id": "3564e16e-eb7d-4f46-a4c2-94cb1f760f6e",
   "metadata": {},
   "outputs": [],
   "source": [
    "outputs = await prm.acreate_chat_completion(chat_input)"
   ]
  },
  {
   "cell_type": "code",
   "execution_count": null,
   "id": "25680e1c-1de0-473e-b07c-d3e0891fde22",
   "metadata": {},
   "outputs": [],
   "source": [
    "outputs"
   ]
  },
  {
   "cell_type": "code",
   "execution_count": null,
   "id": "4f930ed9-60bb-4e45-9f15-00f68c548f5b",
   "metadata": {},
   "outputs": [],
   "source": [
    "if \"server\" in locals():\n",
    "    server.shutdown()"
   ]
  },
  {
   "cell_type": "code",
   "execution_count": null,
   "id": "94589404-aaea-4f81-9fe0-a7eb48f55833",
   "metadata": {},
   "outputs": [],
   "source": []
  }
 ],
 "metadata": {
  "kernelspec": {
   "display_name": "Python 3 (ipykernel)",
   "language": "python",
   "name": "python3"
  },
  "language_info": {
   "codemirror_mode": {
    "name": "ipython",
    "version": 3
   },
   "file_extension": ".py",
   "mimetype": "text/x-python",
   "name": "python",
   "nbconvert_exporter": "python",
   "pygments_lexer": "ipython3",
   "version": "3.12.11"
  }
 },
 "nbformat": 4,
 "nbformat_minor": 5
}
