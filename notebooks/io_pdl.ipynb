{
 "cells": [
  {
   "cell_type": "code",
   "execution_count": 1,
   "metadata": {},
   "outputs": [],
   "source": [
    "from granite_io.io.pdl_io import PdlInputOutputProcessor\n",
    "from granite_io.io.base import ChatCompletionInputs"
   ]
  },
  {
   "cell_type": "code",
   "execution_count": 2,
   "metadata": {},
   "outputs": [],
   "source": [
    "pdl_processor = \"\"\"\n",
    "function:\n",
    "  inputs: obj\n",
    "return:\n",
    "  lastOf:\n",
    "  - model: \"granite3.2:2b\"\n",
    "    backend: openai\n",
    "    input: ${ inputs.messages }\n",
    "    modelResponse: results\n",
    "  - ${ results }\n",
    "\"\"\""
   ]
  },
  {
   "cell_type": "code",
   "execution_count": 3,
   "metadata": {},
   "outputs": [
    {
     "data": {
      "text/plain": [
       "ChatCompletionInputs(messages=[UserMessage(content='How to write a Rust program that reverse a list?', role='user')], tools=[])"
      ]
     },
     "execution_count": 3,
     "metadata": {},
     "output_type": "execute_result"
    }
   ],
   "source": [
    "completion_inputs = ChatCompletionInputs(\n",
    "    messages=[\n",
    "        {\n",
    "            \"role\": \"user\",\n",
    "            \"content\": \"How to write a Rust program that reverse a list?\",\n",
    "        }\n",
    "    ],\n",
    ")\n",
    "completion_inputs"
   ]
  },
  {
   "cell_type": "code",
   "execution_count": 4,
   "metadata": {},
   "outputs": [],
   "source": [
    "processor = PdlInputOutputProcessor(pdl=pdl_processor)"
   ]
  },
  {
   "cell_type": "code",
   "execution_count": 5,
   "metadata": {},
   "outputs": [
    {
     "name": "stdout",
     "output_type": "stream",
     "text": [
      "To create a Rust program that reverses a list (equivalently, a vector in Rust), you can follow this example:\n",
      "\n",
      "```rust\n",
      "fn main() {\n",
      "    // Create a vector with some elements\n",
      "    let mut list: Vec<i32> = vec![1, 2, 3, 4, 5];\n",
      "\n",
      "    println!(\"Original List: {:?}\", list); // Prints the original un-reversed list\n",
      "\n",
      "    // Reverse the vector using the extend_from_slice() method\n",
      "    list.extend_from_slice(&list.iter().rev().collect::<Vec<_>>());\n",
      "\n",
      "    println!(\"Reversed List: {:?}\", list); \n",
      "}\n",
      "```\n",
      "\n",
      "When you run this code, it should output:\n",
      "\n",
      "```\n",
      "Original List: [1, 2, 3, 4, 5]\n",
      "Reversed List: [5, 4, 3, 2, 1]\n",
      "```\n",
      "\n",
      "Here's the breakdown of how it works:\n",
      "\n",
      "1. We start by creating an immutable vector `list` containing integers from 1 to 5.\n",
      "2. We then print this original list.\n",
      "   - In Rust, vectors are mutable and can't be printed in-place (`println!(\"{}\", ...)` syntax). So we first make a mutable copy and then try to print it.\n",
      "3. To reverse the list, we use the `extend_from_slice()` method:\n",
      "\n",
      "   - `iter().rev()` generates an iterator that yields elements from the end of the vector.\n",
      "   - By collecting this reversed iterator into another vector (which will be used as input), we get an iteration over our desired reversed order.\n",
      "   - Finally, we feed this new vector to `extend_from_slice()`, which appends all its elements into the existing list.\n",
      "4. Lastly, we print the reversed list and verify that it matches our expectation.\n",
      "\n",
      "This approach preserves the memory constraints of Rust since we don't create a new vector in each element; instead, we use one iteration over half of our original vector to generate the reversed half quickly.\n"
     ]
    }
   ],
   "source": [
    "results = processor.create_chat_completion(completion_inputs)\n",
    "for r in results.results:\n",
    "    print(r.next_message.content)"
   ]
  }
 ],
 "metadata": {
  "kernelspec": {
   "display_name": "Python 3 (ipykernel)",
   "language": "python",
   "name": "python3"
  },
  "language_info": {
   "codemirror_mode": {
    "name": "ipython",
    "version": 3
   },
   "file_extension": ".py",
   "mimetype": "text/x-python",
   "name": "python",
   "nbconvert_exporter": "python",
   "pygments_lexer": "ipython3",
   "version": "3.13.0"
  }
 },
 "nbformat": 4,
 "nbformat_minor": 4
}
