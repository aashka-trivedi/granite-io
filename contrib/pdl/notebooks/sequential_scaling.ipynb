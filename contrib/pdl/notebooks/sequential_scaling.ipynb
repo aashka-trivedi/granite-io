{
 "cells": [
  {
   "cell_type": "code",
   "execution_count": null,
   "metadata": {},
   "outputs": [
    {
     "name": "stderr",
     "output_type": "stream",
     "text": [
      "ERROR:asyncio:Task exception was never retrieved\n",
      "future: <Task finished name='Task-11' coro=<AsyncClient.aclose() done, defined at /Users/lmandel/.pyenv/versions/3.13.0/envs/pdl-3.13/lib/python3.13/site-packages/httpx/_client.py:2024> exception=RuntimeError('Event loop is closed')>\n",
      "Traceback (most recent call last):\n",
      "  File \"/Users/lmandel/.pyenv/versions/3.13.0/envs/pdl-3.13/lib/python3.13/site-packages/httpx/_client.py\", line 2031, in aclose\n",
      "    await self._transport.aclose()\n",
      "  File \"/Users/lmandel/.pyenv/versions/3.13.0/envs/pdl-3.13/lib/python3.13/site-packages/httpx/_transports/default.py\", line 389, in aclose\n",
      "    await self._pool.aclose()\n",
      "  File \"/Users/lmandel/.pyenv/versions/3.13.0/envs/pdl-3.13/lib/python3.13/site-packages/httpcore/_async/connection_pool.py\", line 353, in aclose\n",
      "    await self._close_connections(closing_connections)\n",
      "  File \"/Users/lmandel/.pyenv/versions/3.13.0/envs/pdl-3.13/lib/python3.13/site-packages/httpcore/_async/connection_pool.py\", line 345, in _close_connections\n",
      "    await connection.aclose()\n",
      "  File \"/Users/lmandel/.pyenv/versions/3.13.0/envs/pdl-3.13/lib/python3.13/site-packages/httpcore/_async/connection.py\", line 173, in aclose\n",
      "    await self._connection.aclose()\n",
      "  File \"/Users/lmandel/.pyenv/versions/3.13.0/envs/pdl-3.13/lib/python3.13/site-packages/httpcore/_async/http11.py\", line 258, in aclose\n",
      "    await self._network_stream.aclose()\n",
      "  File \"/Users/lmandel/.pyenv/versions/3.13.0/envs/pdl-3.13/lib/python3.13/site-packages/httpcore/_backends/anyio.py\", line 53, in aclose\n",
      "    await self._stream.aclose()\n",
      "  File \"/Users/lmandel/.pyenv/versions/3.13.0/envs/pdl-3.13/lib/python3.13/site-packages/anyio/_backends/_asyncio.py\", line 1306, in aclose\n",
      "    self._transport.close()\n",
      "    ~~~~~~~~~~~~~~~~~~~~~^^\n",
      "  File \"/Users/lmandel/.pyenv/versions/3.13.0/lib/python3.13/asyncio/selector_events.py\", line 1202, in close\n",
      "    super().close()\n",
      "    ~~~~~~~~~~~~~^^\n",
      "  File \"/Users/lmandel/.pyenv/versions/3.13.0/lib/python3.13/asyncio/selector_events.py\", line 865, in close\n",
      "    self._loop.call_soon(self._call_connection_lost, None)\n",
      "    ~~~~~~~~~~~~~~~~~~~~^^^^^^^^^^^^^^^^^^^^^^^^^^^^^^^^^^\n",
      "  File \"/Users/lmandel/.pyenv/versions/3.13.0/lib/python3.13/asyncio/base_events.py\", line 829, in call_soon\n",
      "    self._check_closed()\n",
      "    ~~~~~~~~~~~~~~~~~~^^\n",
      "  File \"/Users/lmandel/.pyenv/versions/3.13.0/lib/python3.13/asyncio/base_events.py\", line 552, in _check_closed\n",
      "    raise RuntimeError('Event loop is closed')\n",
      "RuntimeError: Event loop is closed\n"
     ]
    },
    {
     "name": "stdout",
     "output_type": "stream",
     "text": [
      "augmented_docs_from_citation: []\n",
      "\n",
      "\n",
      "docs_from_input: None\n",
      "\n",
      "\n",
      "augmented_docs_from_citation: []\n",
      "\n",
      "\n",
      "docs_from_input: None\n",
      "\n",
      "\n"
     ]
    }
   ],
   "source": [
    "from granite_io_pdl.sequential_scaling import SequentialScalingInputOutputProcessor\n",
    "from granite_io.io.base import ChatCompletionInputs\n",
    "from granite_io.types import ChatCompletionResults"
   ]
  },
  {
   "cell_type": "code",
   "execution_count": 2,
   "metadata": {},
   "outputs": [],
   "source": [
    "import random\n",
    "\n",
    "\n",
    "def validator(results: ChatCompletionResults):\n",
    "    b = random.choice([True, False])\n",
    "    print(f\"======> {b}\")\n",
    "    return b"
   ]
  },
  {
   "cell_type": "code",
   "execution_count": 3,
   "metadata": {},
   "outputs": [],
   "source": [
    "processor = SequentialScalingInputOutputProcessor(\n",
    "    model=\"granite3.2:2b\", backend=\"openai\", validator=validator\n",
    ")"
   ]
  },
  {
   "cell_type": "code",
   "execution_count": 4,
   "metadata": {},
   "outputs": [
    {
     "data": {
      "text/plain": [
       "ChatCompletionInputs(messages=[UserMessage(content='How to write a Rust program that reverse a list?', role='user')], tools=[])"
      ]
     },
     "execution_count": 4,
     "metadata": {},
     "output_type": "execute_result"
    }
   ],
   "source": [
    "completion_inputs = ChatCompletionInputs(\n",
    "    messages=[\n",
    "        {\n",
    "            \"role\": \"user\",\n",
    "            \"content\": \"How to write a Rust program that reverse a list?\",\n",
    "        }\n",
    "    ],\n",
    ")\n",
    "completion_inputs"
   ]
  },
  {
   "cell_type": "code",
   "execution_count": 5,
   "metadata": {},
   "outputs": [
    {
     "name": "stdout",
     "output_type": "stream",
     "text": [
      "======> False\n",
      "======> True\n",
      "I apologize for the repetition. Here's how to write a Rust program that reverses a list (vector) using an alternative approach by leveraging `iter` and `reverse` methods:\n",
      "\n",
      "\n",
      "```rust\n",
      "fn reverse_vector<T>(input: Vec<T>) -> Vec<T>\n",
      "where\n",
      "    T: Copy, // For simplicity, making sure we can take references without cloning, which is true for most primitive types\n",
      "{\n",
      "    input.iter().rev().collect()\n",
      "}\n",
      "\n",
      "\n",
      "fn main() {\n",
      "    let numbers = vec![1, 2, 3, 4, 5];\n",
      "\n",
      "    let reversed_numbers = reverse_vector(numbers);\n",
      "    println!(\"Reversed vector (integers): {:?}\", reversed_numbers);\n",
      "\n",
      "    // Test with a string vector\n",
      "    let strings = vec![\"hello\".to_string(), \"world\"];\n",
      "    let reversed_strings = reverse_vector(strings);\n",
      "    println!(\"Reversed vector (strings): {:?}\", reversed_strings);\n",
      "}\n",
      "```\n",
      "\n",
      "\n",
      "### Explanation:\n",
      "\n",
      "- The `reverse_vector` function takes a reference to an owned `Vec<T>` because Rust requires that the source iterator's item type must implement `std::iter::ExactSizeIterator`, which in turn demands that the elements are not dynamically sized types (DSTs). If your use case involves DSTs like user-defined structures, you'll need a wrapper around them to fit this requirement.\n",
      "\n",
      "- Instead of cloning or moving around items inside an explicit closure, we directly employ `rev` on the iterator returned by `.iter()` from `input`. The `rev` takes a generator to reverse it using iterator's underlying sequence.\n",
      "\n",
      "- As with your previous request, Rust ensures that due to its 'safety contract', any references to the original vector remain valid throughout this reversed iteration without extra copies. This behavior can be seen as a form of \"reference safety\" since we're merely reordering items rather than creating new clones.\n",
      "\n",
      "\n",
      "This method avoids extra cloning steps by directly reversing the iterator's sequence in place, thus being more memory-efficient for potentially large vectors especially when you don't need to retain mutable references from elements inside.\n"
     ]
    }
   ],
   "source": [
    "results = processor.create_chat_completion(completion_inputs)\n",
    "for r in results.results:\n",
    "    print(r.next_message.content)"
   ]
  }
 ],
 "metadata": {
  "kernelspec": {
   "display_name": "granite-io-3.11",
   "language": "python",
   "name": "python3"
  },
  "language_info": {
   "codemirror_mode": {
    "name": "ipython",
    "version": 3
   },
   "file_extension": ".py",
   "mimetype": "text/x-python",
   "name": "python",
   "nbconvert_exporter": "python",
   "pygments_lexer": "ipython3",
   "version": "3.11.4"
  }
 },
 "nbformat": 4,
 "nbformat_minor": 4
}
