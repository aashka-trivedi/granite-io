{
 "cells": [
  {
   "cell_type": "markdown",
   "metadata": {},
   "source": [
    "# Examples usage of the majority voting I/O processor\n",
    "\n",
    "This notebook should eventually turn into documentation."
   ]
  },
  {
   "cell_type": "code",
   "execution_count": 1,
   "metadata": {},
   "outputs": [],
   "source": [
    "from granite_io import make_backend\n",
    "from granite_io.io import make_io_processor\n",
    "from granite_io.io.base import ChatCompletionInputs\n",
    "from granite_io.io.voting import MajorityVotingProcessor, integer_normalizer"
   ]
  },
  {
   "cell_type": "code",
   "execution_count": 2,
   "metadata": {},
   "outputs": [],
   "source": [
    "# Connect to a backend running on localhost.\n",
    "port = 11434\n",
    "url = f\"http://localhost:{port}/v1\"\n",
    "model_name = \"granite3.2:2b\"\n",
    "backend = make_backend(\n",
    "    \"openai\",\n",
    "    {\n",
    "        \"model_name\": model_name,\n",
    "        \"openai_base_url\": url,\n",
    "    },\n",
    ")\n",
    "\n",
    "# Uncomment to run inference on a local Transformers backend.\n",
    "# backend =  make_backend(\n",
    "#     \"transformers\",\n",
    "#     {\n",
    "#         \"model_name\": \"ibm-granite/granite-3.2-2b-instruct\",\n",
    "#     },\n",
    "# )"
   ]
  },
  {
   "cell_type": "code",
   "execution_count": 3,
   "metadata": {},
   "outputs": [
    {
     "data": {
      "text/plain": [
       "ChatCompletionInputs(messages=[UserMessage(content='What is 234651 + 13425?\\nAnswer with just a number please.', role='user')], tools=[], generate_inputs=GenerateInputs(prompt=None, model=None, best_of=None, timeout=None, temperature=None, top_p=None, n=1, stream=None, stream_options=None, stop=None, max_tokens=1024, presence_penalty=None, frequency_penalty=None, logit_bias=None, user=None, seed=None, extra_headers=None), thinking=True)"
      ]
     },
     "execution_count": 3,
     "metadata": {},
     "output_type": "execute_result"
    }
   ],
   "source": [
    "# Ask a question with an integral answer\n",
    "completion_inputs = ChatCompletionInputs(\n",
    "    messages=[\n",
    "        {\n",
    "            \"role\": \"user\",\n",
    "            \"content\": \"What is 234651 + 13425?\\nAnswer with just a number please.\",\n",
    "        }\n",
    "    ],\n",
    "    thinking=True,\n",
    "    generate_inputs={\"n\": 1, \"max_tokens\": 1024},\n",
    ")\n",
    "completion_inputs"
   ]
  },
  {
   "cell_type": "code",
   "execution_count": 4,
   "metadata": {},
   "outputs": [
    {
     "name": "stdout",
     "output_type": "stream",
     "text": [
      "110006\n"
     ]
    }
   ],
   "source": [
    "# Run the question through the base model\n",
    "base_processor = make_io_processor(\"Granite 3.2\", backend=backend)\n",
    "results = base_processor.create_chat_completion(completion_inputs)\n",
    "for r in results.results:\n",
    "    print(r.next_message.content)"
   ]
  },
  {
   "cell_type": "code",
   "execution_count": 5,
   "metadata": {},
   "outputs": [
    {
     "name": "stdout",
     "output_type": "stream",
     "text": [
      "248076\n"
     ]
    }
   ],
   "source": [
    "# Wrap the base model's I/O processor in a majority voting I/O processor.\n",
    "voting_processor = MajorityVotingProcessor(\n",
    "    base_processor, integer_normalizer, samples_per_completion=100\n",
    ")\n",
    "results = voting_processor.create_chat_completion(completion_inputs)\n",
    "for r in results.results:\n",
    "    print(r.next_message.content)"
   ]
  },
  {
   "cell_type": "code",
   "execution_count": 6,
   "metadata": {},
   "outputs": [
    {
     "data": {
      "text/plain": [
       "248076"
      ]
     },
     "execution_count": 6,
     "metadata": {},
     "output_type": "execute_result"
    }
   ],
   "source": [
    "# What's the actual answer?\n",
    "234651 + 13425"
   ]
  },
  {
   "cell_type": "code",
   "execution_count": null,
   "metadata": {},
   "outputs": [],
   "source": []
  }
 ],
 "metadata": {
  "kernelspec": {
   "display_name": "Python 3",
   "language": "python",
   "name": "python3"
  },
  "language_info": {
   "codemirror_mode": {
    "name": "ipython",
    "version": 3
   },
   "file_extension": ".py",
   "mimetype": "text/x-python",
   "name": "python",
   "nbconvert_exporter": "python",
   "pygments_lexer": "ipython3",
   "version": "3.11.11"
  }
 },
 "nbformat": 4,
 "nbformat_minor": 4
}
