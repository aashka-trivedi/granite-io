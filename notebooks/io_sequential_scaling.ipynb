{
 "cells": [
  {
   "cell_type": "code",
   "execution_count": 1,
   "metadata": {},
   "outputs": [],
   "source": [
    "from granite_io.io.pdl_io import SequentialScalingInputOutputProcessor\n",
    "from granite_io.io.base import ChatCompletionInputs\n",
    "from granite_io.types import ChatCompletionResults"
   ]
  },
  {
   "cell_type": "code",
   "execution_count": 2,
   "metadata": {},
   "outputs": [],
   "source": [
    "import random\n",
    "\n",
    "\n",
    "def validator(results: ChatCompletionResults):\n",
    "    b = random.choice([True, False])\n",
    "    print(f\"======> {b}\")\n",
    "    return b"
   ]
  },
  {
   "cell_type": "code",
   "execution_count": 3,
   "metadata": {},
   "outputs": [
    {
     "data": {
      "text/plain": [
       "ChatCompletionInputs(messages=[UserMessage(content='How to write a Rust program that reverse a list?', role='user')], tools=[])"
      ]
     },
     "execution_count": 3,
     "metadata": {},
     "output_type": "execute_result"
    }
   ],
   "source": [
    "completion_inputs = ChatCompletionInputs(\n",
    "    messages=[\n",
    "        {\n",
    "            \"role\": \"user\",\n",
    "            \"content\": \"How to write a Rust program that reverse a list?\",\n",
    "        }\n",
    "    ],\n",
    ")\n",
    "completion_inputs"
   ]
  },
  {
   "cell_type": "code",
   "execution_count": 4,
   "metadata": {},
   "outputs": [],
   "source": [
    "processor = SequentialScalingInputOutputProcessor(\n",
    "    model=\"granite3.2:2b\", backend=\"openai\", validator=validator\n",
    ")"
   ]
  },
  {
   "cell_type": "code",
   "execution_count": 5,
   "metadata": {},
   "outputs": [
    {
     "name": "stdout",
     "output_type": "stream",
     "text": [
      "======> False\n",
      "======> True\n",
      "I apologize for the misunderstanding in my previous response. Let's focus on writing a Rust program that reverses an array using both `iter()` and concatenation methods and the built-in `reverse` function from version 1.39 of Rust, which is more up-to-date:\n",
      "\n",
      "```rust\n",
      "use std::ptr;\n",
      "\n",
      "fn main() {\n",
      "    let mut test_list: [i32; 5] = [1, 2, 3, 4, 5];\n",
      "\n",
      "    println!(\"Original list: {:?}\", &test_list);\n",
      "\n",
      "    // Using iter() and concatenation\n",
      "    let reversed_by_iter_and_concat = unsafe {\n",
      "        let mut result = vec![ptr::null_() as *mut i32; test_list.len()];\n",
      "\n",
      "        for i in 0..test_list.len() {\n",
      "            result[i as usize] = &test_list[test_list.len() - 1 - i];\n",
      "        }\n",
      "\n",
      "        // Convert back to array\n",
      "        test_list.set_len(result.len());\n",
      "        std::slice::from_raw_parts_mut(&mut test_list, result.len());\n",
      "\n",
      "        for element in result {\n",
      "            std::slice::from_raw_parts(ptr::readline(&mut test_list[0..1]), 1);\n",
      "            test_list[test_list.len() - 1 - ptr as usize] = *element;\n",
      "        }\n",
      "    };\n",
      "\n",
      "    println!(\"\\nReversed list by iter and concatenation: {:?}\", &test_list);\n",
      "\n",
      "    // Using the built-in reverse function from Rust 1.39+\n",
      "    let reversed_by_builtin_reverse = test_list.into_iter().rev().collect::<Vec<_>>();\n",
      "\n",
      "    test_list.set_len(reversed_by_builtin_reverse.len());\n",
      "    std::slice::from_raw_parts_mut(&mut test_list, reversed_by_builtin_reverse.len());\n",
      "\n",
      "    for (i, &element) in reversed_by_builtin_reverse.into_iter().enumerate() {\n",
      "        *std::ptr::write(ptr::read(&(test_list[0..1]).as_mut_ptr()), element);\n",
      "    }\n",
      "\n",
      "    println!(\"\\nReversed list using builtin reverse: {:?}\", &test_list);\n",
      "}\n",
      "```\n",
      "\n",
      "Note that this Rust program uses unsafe code in the first approach, due to borrowing constraints and ownership. Also, remember that using `rev` is only available from version 1.39 of Rust by default. For earlier versions or to maintain portability across different Rust versions, stick with the iter() and concatenation method or use Rust's built-in functions like `reverse`, which comes in later versions of the language.\n"
     ]
    }
   ],
   "source": [
    "results = processor.create_chat_completion(completion_inputs)\n",
    "for r in results.results:\n",
    "    print(r.next_message.content)"
   ]
  }
 ],
 "metadata": {
  "kernelspec": {
   "display_name": "Python 3 (ipykernel)",
   "language": "python",
   "name": "python3"
  },
  "language_info": {
   "codemirror_mode": {
    "name": "ipython",
    "version": 3
   },
   "file_extension": ".py",
   "mimetype": "text/x-python",
   "name": "python",
   "nbconvert_exporter": "python",
   "pygments_lexer": "ipython3",
   "version": "3.13.0"
  }
 },
 "nbformat": 4,
 "nbformat_minor": 4
}
