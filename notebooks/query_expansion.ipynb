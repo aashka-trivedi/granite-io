{
 "cells": [
  {
   "cell_type": "code",
   "execution_count": 1,
   "id": "699c695a",
   "metadata": {},
   "outputs": [],
   "source": [
    "# Imports go here\n",
    "from granite_io.io.query_expansion import QueryExpansionIOProcessor\n",
    "from granite_io.io.query_rewrite import QueryRewriteIOProcessor\n",
    "from granite_io.io.granite_3_2.input_processors.granite_3_2_input_processor import (\n",
    "    Granite3Point2Inputs,\n",
    ")\n",
    "from granite_io.backend.vllm_server import LocalVLLMServer\n",
    "from granite_io import make_io_processor, make_backend\n",
    "from granite_io.io.base import ChatCompletionInputs, ChatCompletionResults"
   ]
  },
  {
   "cell_type": "code",
   "execution_count": 2,
   "id": "a82ceb2a",
   "metadata": {},
   "outputs": [],
   "source": [
    "# Constants go here\n",
    "base_model_name = \"ibm-granite/granite-3.2-8b-instruct\"\n",
    "lora_model_name = \"ibm-granite/granite-3.2-8b-lora-rag-query-rewrite\"\n",
    "run_server = False"
   ]
  },
  {
   "cell_type": "code",
   "execution_count": 3,
   "id": "ed046ff3",
   "metadata": {},
   "outputs": [],
   "source": [
    "if run_server:\n",
    "    # Start by firing up a local vLLM server and connecting a backend instance to it.\n",
    "    server = LocalVLLMServer(\n",
    "        base_model_name, lora_adapters=[(lora_model_name, lora_model_name)]\n",
    "    )\n",
    "    server.wait_for_startup(200)\n",
    "    query_rewrite_lora_backend = server.make_lora_backend(lora_model_name)\n",
    "    backend = server.make_backend()\n",
    "else:  # if not run_server\n",
    "    # Use an existing server.\n",
    "    # Modify the constants here as needed.\n",
    "    # openai_base_url = \"http://localhost:55555/v1\"\n",
    "    openai_base_url = \"http://p2-r32-n2.bluevela.rmf.ibm.com:36101/v1\"\n",
    "    openai_api_key = \"granite_intrinsics_1234\"\n",
    "    openai_base_model_name = base_model_name\n",
    "    openai_lora_model_name = lora_model_name\n",
    "    \n",
    "    backend = make_backend(\n",
    "        \"openai\",\n",
    "        {\n",
    "            \"model_name\": openai_base_model_name,\n",
    "            \"openai_base_url\": openai_base_url,\n",
    "            \"openai_api_key\": openai_api_key,\n",
    "        },\n",
    "    )\n",
    "    query_rewrite_lora_backend = make_backend(\n",
    "        \"openai\",\n",
    "        {\n",
    "            \"model_name\": openai_lora_model_name,\n",
    "            \"openai_base_url\": openai_base_url,\n",
    "            \"openai_api_key\": openai_api_key,\n",
    "        },\n",
    "    )"
   ]
  },
  {
   "cell_type": "code",
   "execution_count": 4,
   "id": "acf88f8e",
   "metadata": {},
   "outputs": [
    {
     "name": "stdout",
     "output_type": "stream",
     "text": [
      "Inputs for chat completion: messages=[AssistantMessage(content='Welcome to the California State Parks help desk.', role='assistant', tool_calls=[], reasoning_content=None, citations=None, documents=None, hallucinations=None, stop_reason=None), UserMessage(content=\"I'm a student. Do you have internships?\", role='user'), AssistantMessage(content='The California State Parks hires Student Assistants to perform a variety of tasks that require limited or no previous work experience.', role='assistant', tool_calls=[], reasoning_content=None, citations=None, documents=None, hallucinations=None, stop_reason=None), UserMessage(content='Cool, how do I sign up?', role='user')] tools=[] generate_inputs=GenerateInputs(prompt=None, model=None, best_of=None, echo=None, frequency_penalty=None, logit_bias=None, logprobs=None, max_tokens=4096, n=None, presence_penalty=None, stop=None, stream=None, stream_options=None, suffix=None, temperature=0.0, top_p=None, user=None, extra_headers=None, extra_body={})\n"
     ]
    }
   ],
   "source": [
    "input_messages = [\n",
    "    {\n",
    "        \"role\": \"assistant\",\n",
    "        \"content\": \"Welcome to the California State Parks help desk.\",\n",
    "    },\n",
    "    {\n",
    "        \"role\": \"user\",\n",
    "        \"content\": \"I'm a student. Do you have internships?\",\n",
    "    },\n",
    "    {\n",
    "        \"role\": \"assistant\",\n",
    "        \"content\": \"The California State Parks hires Student Assistants \"\n",
    "        \"to perform a variety of tasks that require limited or no previous \"\n",
    "        \"work experience.\",\n",
    "    },\n",
    "    {\n",
    "        \"role\": \"user\", \n",
    "        \"content\": \"Cool, how do I sign up?\"\n",
    "    },\n",
    "]\n",
    "\n",
    "chat_input_tmp = ChatCompletionInputs(messages=input_messages, generate_inputs={\"temperature\": 0.0,\"max_tokens\": 4096,})\n",
    "print(\"Inputs for chat completion:\", chat_input_tmp)\n",
    "\n"
   ]
  },
  {
   "cell_type": "code",
   "execution_count": 5,
   "id": "49241680",
   "metadata": {},
   "outputs": [],
   "source": [
    "# Spin up an IO processor for the base model\n",
    "io_processor = make_io_processor(base_model_name, backend=backend)\n",
    "rewrite_io_proc = QueryRewriteIOProcessor(query_rewrite_lora_backend)"
   ]
  },
  {
   "cell_type": "code",
   "execution_count": 6,
   "metadata": {},
   "outputs": [
    {
     "name": "stdout",
     "output_type": "stream",
     "text": [
      "QUERY REWRITE: results=[ChatCompletionResult(next_message=UserMessage(content='How do I sign up for the Student Assistant program at California State Parks?', role='user'))]\n",
      "SYNONMOUS QUERY: results=[GenerateResult(completion_string='How do I apply for a Student Assistants position with the California State Parks?', completion_tokens=[], stop_reason='stop')]\n",
      "ENRICHED QUERIES: results=[GenerateResult(completion_string='\\n\\n1. California State Parks internship program\\n2. Student Assistant positions\\n3. Application process for California State Parks internships\\n4. Qualifications for Student Assistant roles in California State Parks\\n5. Internship sign-up procedure at California State Parks\\n6. California State Parks Student Assistant job application\\n7. Requirements for California State Parks Student Assistant roles\\n8. Student Assistant internships in California\\n9. Internship application guidelines for California State Parks\\n10. How to become a Student Assistant at California State Parks', completion_tokens=[], stop_reason='stop')]\n",
      "SAMPLED ANSWER: results=[ChatCompletionResult(next_message=AssistantMessage(content='Typically, you would need to follow these steps:\\n\\n1. Visit the California State Parks\\' official website.\\n2. Navigate to the Careers or Employment section. You may also want to check the Student Opportunities section.\\n3. Look for any current openings for Student Assistant positions or similar roles.\\n4. If a suitable position is listed, review the job description to ensure it aligns with your interests and qualifications.\\n5. Once you\\'ve found a suitable role, click on the relevant \"Apply\" button, which will direct you to the application process. \\n6. Complete the application form with your personal details and any required attachments (resume, cover letter, etc.).\\n7. Review and submit your application before the deadline.\\n\\nPlease note that the exact process may vary, so always follow the instructions provided on the California State Parks website. If there are no current openings, it\\'s best to regularly check their career page or set up job alerts. \\n\\nRemember, these positions are usually seasonal, so keep an eye out for opportunities that match your availability. \\n\\nAlso, due to varying office procedures, emailing for inquiries about potential internships might be a good idea. You can reach out to the Human Resources department or the specific park you\\'re interested in working with.\\n\\nLastly, make sure to meet any prerequisites including being a student enrolled in an educational institution at least half-time, having a valid student ID, and maintaining good academic standing, which are typically required for such positions.', role='assistant', tool_calls=[], reasoning_content=None, citations=None, documents=None, hallucinations=None, stop_reason='stop'))]\n",
      "query_answer_v1 Typically, you would need to follow these steps:\n",
      "\n",
      "1. Visit the California State Parks' official website.\n",
      "2. Navigate to the Careers or Employment section. You may also want to check the Student Opportunities section.\n",
      "3. Look for any current openings for Student Assistant positions or similar roles.\n",
      "4. If a suitable position is listed, review the job description to ensure it aligns with your interests and qualifications.\n",
      "5. Once you've found a suitable role, click on the relevant \"Apply\" button, which will direct you to the application process. \n",
      "6. Complete the application form with your personal details and any required attachments (resume, cover letter, etc.).\n",
      "7. Review and submit your application before the deadline.\n",
      "\n",
      "Please note that the exact process may vary, so always follow the instructions provided on the California State Parks website. If there are no current openings, it's best to regularly check their career page or set up job alerts. \n",
      "\n",
      "Remember, these positions are usually seasonal, so keep an eye out for opportunities that match your availability. \n",
      "\n",
      "Also, due to varying office procedures, emailing for inquiries about potential internships might be a good idea. You can reach out to the Human Resources department or the specific park you're interested in working with.\n",
      "\n",
      "Lastly, make sure to meet any prerequisites including being a student enrolled in an educational institution at least half-time, having a valid student ID, and maintaining good academic standing, which are typically required for such positions.\n",
      "Reverse-Engineered Question: results=[GenerateResult(completion_string='What steps should one follow to apply for a Student Assistant position at California State Parks?', completion_tokens=[], stop_reason='stop')]\n",
      "results=[ChatCompletionResult(next_message=UserMessage(content='Cool, how do I sign up?', role='user')), ChatCompletionResult(next_message=UserMessage(content='How do I sign up for the Student Assistant program at California State Parks?', role='user')), ChatCompletionResult(next_message=UserMessage(content='How do I apply for a Student Assistants position with the California State Parks?', role='user')), ChatCompletionResult(next_message=UserMessage(content='\\n\\n1. California State Parks internship program\\n2. Student Assistant positions\\n3. Application process for California State Parks internships\\n4. Qualifications for Student Assistant roles in California State Parks\\n5. Internship sign-up procedure at California State Parks\\n6. California State Parks Student Assistant job application\\n7. Requirements for California State Parks Student Assistant roles\\n8. Student Assistant internships in California\\n9. Internship application guidelines for California State Parks\\n10. How to become a Student Assistant at California State Parks', role='user')), ChatCompletionResult(next_message=UserMessage(content='Typically, you would need to follow these steps:\\n\\n1. Visit the California State Parks\\' official website.\\n2. Navigate to the Careers or Employment section. You may also want to check the Student Opportunities section.\\n3. Look for any current openings for Student Assistant positions or similar roles.\\n4. If a suitable position is listed, review the job description to ensure it aligns with your interests and qualifications.\\n5. Once you\\'ve found a suitable role, click on the relevant \"Apply\" button, which will direct you to the application process. \\n6. Complete the application form with your personal details and any required attachments (resume, cover letter, etc.).\\n7. Review and submit your application before the deadline.\\n\\nPlease note that the exact process may vary, so always follow the instructions provided on the California State Parks website. If there are no current openings, it\\'s best to regularly check their career page or set up job alerts. \\n\\nRemember, these positions are usually seasonal, so keep an eye out for opportunities that match your availability. \\n\\nAlso, due to varying office procedures, emailing for inquiries about potential internships might be a good idea. You can reach out to the Human Resources department or the specific park you\\'re interested in working with.\\n\\nLastly, make sure to meet any prerequisites including being a student enrolled in an educational institution at least half-time, having a valid student ID, and maintaining good academic standing, which are typically required for such positions.', role='user')), ChatCompletionResult(next_message=UserMessage(content='What steps should one follow to apply for a Student Assistant position at California State Parks?', role='user'))]\n",
      "\n",
      "Query Expansion Results:\n",
      "Result 1: Cool, how do I sign up?\n",
      "Result 2: How do I sign up for the Student Assistant program at California State Parks?\n",
      "Result 3: How do I apply for a Student Assistants position with the California State Parks?\n",
      "Result 4: \n",
      "\n",
      "1. California State Parks internship program\n",
      "2. Student Assistant positions\n",
      "3. Application process for California State Parks internships\n",
      "4. Qualifications for Student Assistant roles in California State Parks\n",
      "5. Internship sign-up procedure at California State Parks\n",
      "6. California State Parks Student Assistant job application\n",
      "7. Requirements for California State Parks Student Assistant roles\n",
      "8. Student Assistant internships in California\n",
      "9. Internship application guidelines for California State Parks\n",
      "10. How to become a Student Assistant at California State Parks\n",
      "Result 5: Typically, you would need to follow these steps:\n",
      "\n",
      "1. Visit the California State Parks' official website.\n",
      "2. Navigate to the Careers or Employment section. You may also want to check the Student Opportunities section.\n",
      "3. Look for any current openings for Student Assistant positions or similar roles.\n",
      "4. If a suitable position is listed, review the job description to ensure it aligns with your interests and qualifications.\n",
      "5. Once you've found a suitable role, click on the relevant \"Apply\" button, which will direct you to the application process. \n",
      "6. Complete the application form with your personal details and any required attachments (resume, cover letter, etc.).\n",
      "7. Review and submit your application before the deadline.\n",
      "\n",
      "Please note that the exact process may vary, so always follow the instructions provided on the California State Parks website. If there are no current openings, it's best to regularly check their career page or set up job alerts. \n",
      "\n",
      "Remember, these positions are usually seasonal, so keep an eye out for opportunities that match your availability. \n",
      "\n",
      "Also, due to varying office procedures, emailing for inquiries about potential internships might be a good idea. You can reach out to the Human Resources department or the specific park you're interested in working with.\n",
      "\n",
      "Lastly, make sure to meet any prerequisites including being a student enrolled in an educational institution at least half-time, having a valid student ID, and maintaining good academic standing, which are typically required for such positions.\n",
      "Result 6: What steps should one follow to apply for a Student Assistant position at California State Parks?\n"
     ]
    }
   ],
   "source": [
    "rag_io_proc = QueryExpansionIOProcessor(\n",
    "    backend,\n",
    "    io_processor,\n",
    "    rewrite_io_proc,\n",
    ")\n",
    "\n",
    "qe_result = rag_io_proc.create_chat_completion(chat_input_tmp)\n",
    "print(qe_result)\n",
    "\n",
    "qe_result_strs = [r.next_message.content for r in qe_result.results]\n",
    "print(\"\\nQuery Expansion Results:\")\n",
    "for i, result in enumerate(qe_result_strs):\n",
    "    print(f\"Result {i + 1}: {result}\")\n"
   ]
  },
  {
   "cell_type": "code",
   "execution_count": null,
   "id": "95f5a479",
   "metadata": {},
   "outputs": [],
   "source": []
  },
  {
   "cell_type": "code",
   "execution_count": null,
   "id": "96741fa6",
   "metadata": {},
   "outputs": [],
   "source": []
  },
  {
   "cell_type": "code",
   "execution_count": null,
   "id": "d6c3508f",
   "metadata": {},
   "outputs": [],
   "source": []
  }
 ],
 "metadata": {
  "kernelspec": {
   "display_name": "granite_io_venv",
   "language": "python",
   "name": "python3"
  },
  "language_info": {
   "codemirror_mode": {
    "name": "ipython",
    "version": 3
   },
   "file_extension": ".py",
   "mimetype": "text/x-python",
   "name": "python",
   "nbconvert_exporter": "python",
   "pygments_lexer": "ipython3",
   "version": "3.10.17"
  }
 },
 "nbformat": 4,
 "nbformat_minor": 5
}
