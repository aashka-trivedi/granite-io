{
 "cells": [
  {
   "cell_type": "code",
   "execution_count": 1,
   "metadata": {},
   "outputs": [],
   "source": [
    "from granite_io.io.pdl_io import SequentialScalingInputOutputProcessor\n",
    "from granite_io.io.base import ChatCompletionInputs\n",
    "from granite_io.types import ChatCompletionResults"
   ]
  },
  {
   "cell_type": "code",
   "execution_count": 2,
   "metadata": {},
   "outputs": [],
   "source": [
    "import random\n",
    "\n",
    "\n",
    "def validator(results: ChatCompletionResults):\n",
    "    b = random.choice([True, False])\n",
    "    print(f\"======> {b}\")\n",
    "    return b"
   ]
  },
  {
   "cell_type": "code",
   "execution_count": 3,
   "metadata": {},
   "outputs": [],
   "source": [
    "processor = SequentialScalingInputOutputProcessor(\n",
    "    model=\"granite3.2:2b\", backend=\"openai\", validator=validator\n",
    ")"
   ]
  },
  {
   "cell_type": "code",
   "execution_count": 4,
   "metadata": {},
   "outputs": [
    {
     "data": {
      "text/plain": [
       "ChatCompletionInputs(messages=[UserMessage(content='How to write a Rust program that reverse a list?', role='user')], tools=[])"
      ]
     },
     "execution_count": 4,
     "metadata": {},
     "output_type": "execute_result"
    }
   ],
   "source": [
    "completion_inputs = ChatCompletionInputs(\n",
    "    messages=[\n",
    "        {\n",
    "            \"role\": \"user\",\n",
    "            \"content\": \"How to write a Rust program that reverse a list?\",\n",
    "        }\n",
    "    ],\n",
    ")\n",
    "completion_inputs"
   ]
  },
  {
   "cell_type": "code",
   "execution_count": 5,
   "metadata": {},
   "outputs": [
    {
     "name": "stdout",
     "output_type": "stream",
     "text": [
      "======> False\n",
      "======> False\n",
      "======> False\n",
      "======> False\n",
      "======> True\n",
      "I apologize for the confusion earlier. Here's another attempt that uses Rust vectors to reverse without cloning:\n",
      "\n",
      " ```rust\n",
      "fn reverse_list(mut input: Vec<i32>) -> Vec<i32> {\n",
      "    while input.len() > 1 {\n",
      "        // Pop from beginning, push to end\n",
      "     input.pop();\n",
      "        input.push(input.remove(0));\n",
      "    }\n",
      "\n",
      "    input\n",
      "}\n",
      "\n",
      "\n",
      "fn main() {\n",
      "let list = vec![1, 2, 3, 4, 5];\n",
      "\n",
      " println!(\"Original List: {:?}\", list);\n",
      " let reversed = reverse_list(list); // No need to clone here (but it's similar behavior)\n",
      "\n",
      " println!(\n",
      "\t\"Reversed List: {:?}\\n\",\n",
      "     reversed\n",
      " );\n",
      "}\n",
      "```\n",
      "\n",
      " ```\n",
      "// Original List: [1, 2, 3, 4, 5]\n",
      "Reversed List: [5, 4, 3, 2, 1]\n",
      "```\n",
      "\n",
      "With this method, we move elements from the beginning to new positions at the end using `pop` and `push`, which doesn't require creating a copy. This function demonstrates yet another way to rearrange list elements into a reversed form in Rust.\n"
     ]
    }
   ],
   "source": [
    "results = processor.create_chat_completion(completion_inputs)\n",
    "for r in results.results:\n",
    "    print(r.next_message.content)"
   ]
  }
 ],
 "metadata": {
  "kernelspec": {
   "display_name": "Python 3 (ipykernel)",
   "language": "python",
   "name": "python3"
  },
  "language_info": {
   "codemirror_mode": {
    "name": "ipython",
    "version": 3
   },
   "file_extension": ".py",
   "mimetype": "text/x-python",
   "name": "python",
   "nbconvert_exporter": "python",
   "pygments_lexer": "ipython3",
   "version": "3.13.0"
  }
 },
 "nbformat": 4,
 "nbformat_minor": 4
}
