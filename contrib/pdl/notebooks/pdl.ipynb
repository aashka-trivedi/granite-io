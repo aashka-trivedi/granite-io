{
 "cells": [
  {
   "cell_type": "code",
   "execution_count": 1,
   "metadata": {},
   "outputs": [],
   "source": [
    "from granite_io.io.pdl_io import PdlInputOutputProcessor\n",
    "from granite_io.io.base import ChatCompletionInputs"
   ]
  },
  {
   "cell_type": "code",
   "execution_count": 2,
   "metadata": {},
   "outputs": [],
   "source": [
    "pdl_processor = \"\"\"\n",
    "function:\n",
    "  inputs: obj\n",
    "return:\n",
    "  lastOf:\n",
    "  - model: \"granite3.2:2b\"\n",
    "    backend: openai\n",
    "    input: ${ inputs.messages }\n",
    "    modelResponse: results\n",
    "  - ${ results }\n",
    "\"\"\"\n",
    "processor = PdlInputOutputProcessor(pdl=pdl_processor)"
   ]
  },
  {
   "cell_type": "code",
   "execution_count": 3,
   "metadata": {},
   "outputs": [
    {
     "data": {
      "text/plain": [
       "ChatCompletionInputs(messages=[UserMessage(content='How to write a Rust program that reverse a list?', role='user')], tools=[])"
      ]
     },
     "execution_count": 3,
     "metadata": {},
     "output_type": "execute_result"
    }
   ],
   "source": [
    "completion_inputs = ChatCompletionInputs(\n",
    "    messages=[\n",
    "        {\n",
    "            \"role\": \"user\",\n",
    "            \"content\": \"How to write a Rust program that reverse a list?\",\n",
    "        }\n",
    "    ],\n",
    ")\n",
    "completion_inputs"
   ]
  },
  {
   "cell_type": "code",
   "execution_count": 4,
   "metadata": {},
   "outputs": [
    {
     "name": "stdout",
     "output_type": "stream",
     "text": [
      "In Rust, you can create and manipulate lists using the `Vec` type from the standard library's collection traits. Here's how you can write a Rust function to reverse a vector (which is essentially the same as a list):\n",
      "\n",
      "```rust\n",
      "use std::vec::Vec; // Make this line available in scope for easier referencing\n",
      "\n",
      "fn main() {\n",
      "    let mut list: Vec<i32> = vec![1, 2, 3, 4, 5];\n",
      "\n",
      "    println!(\"Original List: {:?}\", list);\n",
      "\n",
      "    // Reverse the vector using `iter()` and `rev()`, then convert it back to a reference type.\n",
      "    let reversed_list = list.iter().copied().rev().collect();\n",
      "\n",
      "    println!(\"Reversed List: {:?}\", reversed_list);\n",
      "}\n",
      "```\n",
      "\n",
      "This Rust program accomplishes the following:\n",
      "\n",
      "1. It defines an immutable mutable vector (using `mut`) of integers. This is useful for performing in-place modifications without needing to return a value from the function.\n",
      "2. It uses `iter()` to create an iterator over the elements and `copied()` on this iterator to convert each element into its owned type, because Rust cannot borrow values while iterating.\n",
      "3. The `rev` method reverses the order of iteration, moving through the vector in reverse.\n",
      "4. Finally, `.collect()` collects these reversed elements back into a new `Vec<i32>`. In other words, it turns an iterator into a vector again. Since we're dealing with references (`&`), Rust makes sure that we don't hold any ownership of the original data (making this code safe and reusable).\n",
      "5. The program then prints out both the original and reversed lists.\n",
      "\n",
      "Note: This is just one solution to reverse a list in Rust, but it demonstrates common practices for working with owned types, iterators, and function safety.\n"
     ]
    }
   ],
   "source": [
    "results = processor.create_chat_completion(completion_inputs)\n",
    "for r in results.results:\n",
    "    print(r.next_message.content)"
   ]
  }
 ],
 "metadata": {
  "kernelspec": {
   "display_name": "Python 3 (ipykernel)",
   "language": "python",
   "name": "python3"
  },
  "language_info": {
   "codemirror_mode": {
    "name": "ipython",
    "version": 3
   },
   "file_extension": ".py",
   "mimetype": "text/x-python",
   "name": "python",
   "nbconvert_exporter": "python",
   "pygments_lexer": "ipython3",
   "version": "3.13.0"
  }
 },
 "nbformat": 4,
 "nbformat_minor": 4
}
