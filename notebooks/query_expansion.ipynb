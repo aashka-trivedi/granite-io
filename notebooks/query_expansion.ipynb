{
 "cells": [
  {
   "cell_type": "code",
   "execution_count": 1,
   "id": "699c695a",
   "metadata": {},
   "outputs": [],
   "source": [
    "# Imports go here\n",
    "from granite_io.io.query_expansion import QueryExpansionIOProcessor\n",
    "from granite_io.io.query_rewrite import QueryRewriteIOProcessor\n",
    "from granite_io.io.granite_3_2.input_processors.granite_3_2_input_processor import (\n",
    "    Granite3Point2Inputs,\n",
    ")\n",
    "from granite_io.backend.vllm_server import LocalVLLMServer\n",
    "from granite_io import make_io_processor, make_backend\n",
    "from granite_io.io.base import ChatCompletionInputs, ChatCompletionResults"
   ]
  },
  {
   "cell_type": "code",
   "execution_count": 2,
   "id": "a82ceb2a",
   "metadata": {},
   "outputs": [],
   "source": [
    "# Constants go here\n",
    "base_model_name = \"ibm-granite/granite-3.2-8b-instruct\"\n",
    "lora_model_name = \"ibm-granite/granite-3.2-8b-lora-rag-query-rewrite\"\n",
    "run_server = False"
   ]
  },
  {
   "cell_type": "code",
   "execution_count": null,
   "id": "ed046ff3",
   "metadata": {},
   "outputs": [],
   "source": [
    "if run_server:\n",
    "    # Start by firing up a local vLLM server and connecting a backend instance to it.\n",
    "    server = LocalVLLMServer(\n",
    "        base_model_name, lora_adapters=[(lora_model_name, lora_model_name)]\n",
    "    )\n",
    "    server.wait_for_startup(200)\n",
    "    query_rewrite_lora_backend = server.make_lora_backend(lora_model_name)\n",
    "    backend = server.make_backend()\n",
    "else:  # if not run_server\n",
    "    # Use an existing server.\n",
    "    # Modify the constants here as needed.\n",
    "    openai_base_url = \"http://localhost:55555/v1\"\n",
    "    openai_api_key = \"granite_intrinsics_1234\"\n",
    "    openai_base_model_name = base_model_name\n",
    "    openai_lora_model_name = lora_model_name\n",
    "    \n",
    "    backend = make_backend(\n",
    "        \"openai\",\n",
    "        {\n",
    "            \"model_name\": openai_base_model_name,\n",
    "            \"openai_base_url\": openai_base_url,\n",
    "            \"openai_api_key\": openai_api_key,\n",
    "        },\n",
    "    )\n",
    "    query_rewrite_lora_backend = make_backend(\n",
    "        \"openai\",\n",
    "        {\n",
    "            \"model_name\": openai_lora_model_name,\n",
    "            \"openai_base_url\": openai_base_url,\n",
    "            \"openai_api_key\": openai_api_key,\n",
    "        },\n",
    "    )"
   ]
  },
  {
   "cell_type": "code",
   "execution_count": 4,
   "id": "acf88f8e",
   "metadata": {},
   "outputs": [
    {
     "name": "stdout",
     "output_type": "stream",
     "text": [
      "Inputs for chat completion: messages=[AssistantMessage(content='Welcome to the California State Parks help desk.', role='assistant', tool_calls=[], reasoning_content=None, citations=None, documents=None, hallucinations=None, stop_reason=None), UserMessage(content=\"I'm a student. Do you have internships?\", role='user'), AssistantMessage(content='The California State Parks hires Student Assistants to perform a variety of tasks that require limited or no previous work experience.', role='assistant', tool_calls=[], reasoning_content=None, citations=None, documents=None, hallucinations=None, stop_reason=None), UserMessage(content='Cool, how do I sign up?', role='user')] tools=[] generate_inputs=GenerateInputs(prompt=None, model=None, best_of=None, echo=None, frequency_penalty=None, logit_bias=None, logprobs=None, max_tokens=4096, n=None, presence_penalty=None, stop=None, stream=None, stream_options=None, suffix=None, temperature=0.0, top_p=None, user=None, extra_headers=None, extra_body={})\n"
     ]
    }
   ],
   "source": [
    "input_messages = [\n",
    "    {\n",
    "        \"role\": \"assistant\",\n",
    "        \"content\": \"Welcome to the California State Parks help desk.\",\n",
    "    },\n",
    "    {\n",
    "        \"role\": \"user\",\n",
    "        \"content\": \"I'm a student. Do you have internships?\",\n",
    "    },\n",
    "    {\n",
    "        \"role\": \"assistant\",\n",
    "        \"content\": \"The California State Parks hires Student Assistants \"\n",
    "        \"to perform a variety of tasks that require limited or no previous \"\n",
    "        \"work experience.\",\n",
    "    },\n",
    "    {\n",
    "        \"role\": \"user\", \n",
    "        \"content\": \"Cool, how do I sign up?\"\n",
    "    },\n",
    "]\n",
    "\n",
    "chat_input_tmp = ChatCompletionInputs(messages=input_messages, generate_inputs={\"temperature\": 0.0,\"max_tokens\": 4096,})\n",
    "print(\"Inputs for chat completion:\", chat_input_tmp)\n",
    "\n"
   ]
  },
  {
   "cell_type": "code",
   "execution_count": 5,
   "id": "49241680",
   "metadata": {},
   "outputs": [],
   "source": [
    "# Spin up an IO processor for the base model\n",
    "io_processor = make_io_processor(base_model_name, backend=backend)\n",
    "rewrite_io_proc = QueryRewriteIOProcessor(query_rewrite_lora_backend)"
   ]
  },
  {
   "cell_type": "code",
   "execution_count": 6,
   "metadata": {},
   "outputs": [
    {
     "name": "stdout",
     "output_type": "stream",
     "text": [
      "QUERY REWRITE: results=[ChatCompletionResult(next_message=UserMessage(content='How do I sign up for the Student Assistant program at California State Parks?', role='user'))]\n",
      "SYNONMOUS QUERY: results=[GenerateResult(completion_string='How can I apply for the California State Parks Student Assistant position?', completion_tokens=[], stop_reason='stop')]\n",
      "ENRICHED QUERIES: results=[GenerateResult(completion_string='\\n1. California State Parks Student Internship Program\\n2. Apply for California State Parks Student Assistant position\\n3. Requirements for California State Parks Student Assistant\\n4. California State Parks Student Assistant application\\n5. How to apply for California State Parks Student Internship\\n6. Eligibility criteria for California State Parks Student Assistant\\n7. California State Parks Student Assistant job description\\n8. Steps to apply for California State Parks Student Internship\\n9. Prerequisites for California State Parks Student Assistant\\n10. California State Parks Student Assistant application process\\n11. California State Parks Student Assistant role responsibilities\\n12. Student internship opportunities at California State Parks\\n13. Applying for a student position at California State Parks\\n14. California State Parks Student Assistant application deadline\\n15. How to become a California State Parks Student Assistant\\n16. California State Parks Student Assistant qualifications\\n17. California State Parks Student Assistant role overview\\n18. Student internship requirements at California State Parks\\n19. Applying for a Student Assistant position at California State Parks\\n20. California State Parks Student Assistant application form', completion_tokens=[], stop_reason='stop')]\n",
      "SAMPLED ANSWER: results=[ChatCompletionResult(next_message=AssistantMessage(content=\"Internships with California State Parks are handled through the California State Internship System (Scholars Program). Here's a general step-by-step guide:\\n\\n1. Check Eligibility: You must be a U.S. citizen, have a cumulative GPA of 2.5 or higher, and enrolled in an eligible California college or university. \\n\\n2. Apply to the Scholars Program: Visit the Scholars Program website to apply. You'll need to create a profile and submit your personal, educational, and professional information. \\n\\n3. Apply for the Internship: Once you're accepted into the Scholars Program, you can browse and apply for internships. You can search by keyword, location, or specific agency. When you find an internship, you can directly apply through the system.\\n\\n4. Wait for Selection: After you've applied, your application will be reviewed. If selected, you'll be contacted to complete the hiring process.\\n\\nRemember, exact procedures may vary, so it's best to check the official California State Parks and the California Scholars Program websites for the most accurate and up-to-date information.\", role='assistant', tool_calls=[], reasoning_content=None, citations=None, documents=None, hallucinations=None, stop_reason='stop'))]\n",
      "query_answer_v1 Internships with California State Parks are handled through the California State Internship System (Scholars Program). Here's a general step-by-step guide:\n",
      "\n",
      "1. Check Eligibility: You must be a U.S. citizen, have a cumulative GPA of 2.5 or higher, and enrolled in an eligible California college or university. \n",
      "\n",
      "2. Apply to the Scholars Program: Visit the Scholars Program website to apply. You'll need to create a profile and submit your personal, educational, and professional information. \n",
      "\n",
      "3. Apply for the Internship: Once you're accepted into the Scholars Program, you can browse and apply for internships. You can search by keyword, location, or specific agency. When you find an internship, you can directly apply through the system.\n",
      "\n",
      "4. Wait for Selection: After you've applied, your application will be reviewed. If selected, you'll be contacted to complete the hiring process.\n",
      "\n",
      "Remember, exact procedures may vary, so it's best to check the official California State Parks and the California Scholars Program websites for the most accurate and up-to-date information.\n",
      "Reverse-Engineered Question: results=[GenerateResult(completion_string='What is the process for applying for an internship with California State Parks through the California State Internship System?', completion_tokens=[], stop_reason='stop')]\n",
      "results=[ChatCompletionResult(next_message=UserMessage(content='How do I sign up for the Student Assistant program at California State Parks?', role='user')), ChatCompletionResult(next_message=UserMessage(content='How can I apply for the California State Parks Student Assistant position?', role='user')), ChatCompletionResult(next_message=UserMessage(content='\\n1. California State Parks Student Internship Program\\n2. Apply for California State Parks Student Assistant position\\n3. Requirements for California State Parks Student Assistant\\n4. California State Parks Student Assistant application\\n5. How to apply for California State Parks Student Internship\\n6. Eligibility criteria for California State Parks Student Assistant\\n7. California State Parks Student Assistant job description\\n8. Steps to apply for California State Parks Student Internship\\n9. Prerequisites for California State Parks Student Assistant\\n10. California State Parks Student Assistant application process\\n11. California State Parks Student Assistant role responsibilities\\n12. Student internship opportunities at California State Parks\\n13. Applying for a student position at California State Parks\\n14. California State Parks Student Assistant application deadline\\n15. How to become a California State Parks Student Assistant\\n16. California State Parks Student Assistant qualifications\\n17. California State Parks Student Assistant role overview\\n18. Student internship requirements at California State Parks\\n19. Applying for a Student Assistant position at California State Parks\\n20. California State Parks Student Assistant application form', role='user')), ChatCompletionResult(next_message=UserMessage(content=\"Internships with California State Parks are handled through the California State Internship System (Scholars Program). Here's a general step-by-step guide:\\n\\n1. Check Eligibility: You must be a U.S. citizen, have a cumulative GPA of 2.5 or higher, and enrolled in an eligible California college or university. \\n\\n2. Apply to the Scholars Program: Visit the Scholars Program website to apply. You'll need to create a profile and submit your personal, educational, and professional information. \\n\\n3. Apply for the Internship: Once you're accepted into the Scholars Program, you can browse and apply for internships. You can search by keyword, location, or specific agency. When you find an internship, you can directly apply through the system.\\n\\n4. Wait for Selection: After you've applied, your application will be reviewed. If selected, you'll be contacted to complete the hiring process.\\n\\nRemember, exact procedures may vary, so it's best to check the official California State Parks and the California Scholars Program websites for the most accurate and up-to-date information.\", role='user')), ChatCompletionResult(next_message=UserMessage(content='What is the process for applying for an internship with California State Parks through the California State Internship System?', role='user'))]\n",
      "\n",
      "Query Expansion Results:\n",
      "Result 1: How do I sign up for the Student Assistant program at California State Parks?\n",
      "Result 2: How can I apply for the California State Parks Student Assistant position?\n",
      "Result 3: \n",
      "1. California State Parks Student Internship Program\n",
      "2. Apply for California State Parks Student Assistant position\n",
      "3. Requirements for California State Parks Student Assistant\n",
      "4. California State Parks Student Assistant application\n",
      "5. How to apply for California State Parks Student Internship\n",
      "6. Eligibility criteria for California State Parks Student Assistant\n",
      "7. California State Parks Student Assistant job description\n",
      "8. Steps to apply for California State Parks Student Internship\n",
      "9. Prerequisites for California State Parks Student Assistant\n",
      "10. California State Parks Student Assistant application process\n",
      "11. California State Parks Student Assistant role responsibilities\n",
      "12. Student internship opportunities at California State Parks\n",
      "13. Applying for a student position at California State Parks\n",
      "14. California State Parks Student Assistant application deadline\n",
      "15. How to become a California State Parks Student Assistant\n",
      "16. California State Parks Student Assistant qualifications\n",
      "17. California State Parks Student Assistant role overview\n",
      "18. Student internship requirements at California State Parks\n",
      "19. Applying for a Student Assistant position at California State Parks\n",
      "20. California State Parks Student Assistant application form\n",
      "Result 4: Internships with California State Parks are handled through the California State Internship System (Scholars Program). Here's a general step-by-step guide:\n",
      "\n",
      "1. Check Eligibility: You must be a U.S. citizen, have a cumulative GPA of 2.5 or higher, and enrolled in an eligible California college or university. \n",
      "\n",
      "2. Apply to the Scholars Program: Visit the Scholars Program website to apply. You'll need to create a profile and submit your personal, educational, and professional information. \n",
      "\n",
      "3. Apply for the Internship: Once you're accepted into the Scholars Program, you can browse and apply for internships. You can search by keyword, location, or specific agency. When you find an internship, you can directly apply through the system.\n",
      "\n",
      "4. Wait for Selection: After you've applied, your application will be reviewed. If selected, you'll be contacted to complete the hiring process.\n",
      "\n",
      "Remember, exact procedures may vary, so it's best to check the official California State Parks and the California Scholars Program websites for the most accurate and up-to-date information.\n",
      "Result 5: What is the process for applying for an internship with California State Parks through the California State Internship System?\n"
     ]
    }
   ],
   "source": [
    "rag_io_proc = QueryExpansionIOProcessor(\n",
    "    backend,\n",
    "    io_processor,\n",
    "    rewrite_io_proc,\n",
    ")\n",
    "\n",
    "qe_result = rag_io_proc.create_chat_completion(chat_input_tmp)\n",
    "print(qe_result)\n",
    "\n",
    "qe_result_strs = [r.next_message.content for r in qe_result.results]\n",
    "print(\"\\nQuery Expansion Results:\")\n",
    "for i, result in enumerate(qe_result_strs):\n",
    "    print(f\"Result {i + 1}: {result}\")\n"
   ]
  },
  {
   "cell_type": "code",
   "execution_count": null,
   "id": "95f5a479",
   "metadata": {},
   "outputs": [],
   "source": []
  }
 ],
 "metadata": {
  "kernelspec": {
   "display_name": "granite_io_venv",
   "language": "python",
   "name": "python3"
  },
  "language_info": {
   "codemirror_mode": {
    "name": "ipython",
    "version": 3
   },
   "file_extension": ".py",
   "mimetype": "text/x-python",
   "name": "python",
   "nbconvert_exporter": "python",
   "pygments_lexer": "ipython3",
   "version": "3.10.17"
  }
 },
 "nbformat": 4,
 "nbformat_minor": 5
}
